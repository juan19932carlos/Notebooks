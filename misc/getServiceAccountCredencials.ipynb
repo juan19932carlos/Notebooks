{
 "cells": [
  {
   "cell_type": "code",
   "execution_count": 2,
   "metadata": {},
   "outputs": [],
   "source": [
    "import os\n",
    "from google.oauth2 import service_account\n",
    "from googleapiclient.discovery import build"
   ]
  },
  {
   "cell_type": "code",
   "execution_count": 3,
   "metadata": {},
   "outputs": [],
   "source": [
    "\n",
    "# Path to the service account key file\n",
    "SERVICE_ACCOUNT_FILE = '/Users/juangama/Downloads/mrv2025-1ec48-5cf11fd312b5.json'\n",
    "\n",
    "# Scopes for the credentials\n",
    "SCOPES = ['https://www.googleapis.com/auth/youtube.readonly']\n",
    "\n",
    "# Generate credentials\n",
    "credentials = service_account.Credentials.from_service_account_file(\n",
    "    SERVICE_ACCOUNT_FILE, scopes=SCOPES)"
   ]
  },
  {
   "cell_type": "code",
   "execution_count": 10,
   "metadata": {},
   "outputs": [],
   "source": [
    "\n",
    "# Build the YouTube service\n",
    "youtube = build('youtube', 'v3', credentials=credentials)\n",
    "\n",
    "# Example request to get the details of a YouTube channel\n",
    "request = youtube.search().list(\n",
    "    part=['snippet'],\n",
    "    q= \"firebase\",\n",
    "    type='video',\n",
    "    maxResults= 2,\n",
    ")\n",
    "response = request.execute()"
   ]
  },
  {
   "cell_type": "code",
   "execution_count": 5,
   "metadata": {},
   "outputs": [
    {
     "name": "stdout",
     "output_type": "stream",
     "text": [
      "Firebase in 100 Seconds\n",
      "FIREBASE en 4 MINUTOS\n"
     ]
    }
   ],
   "source": [
    "for item in response['items']:\n",
    "    print(item['snippet']['title'])"
   ]
  },
  {
   "cell_type": "code",
   "execution_count": 11,
   "metadata": {},
   "outputs": [
    {
     "data": {
      "text/plain": [
       "{'kind': 'youtube#videoListResponse',\n",
       " 'etag': 'eR2uAy5z5CBbvMg0NmmWdClThxA',\n",
       " 'items': [{'kind': 'youtube#video',\n",
       "   'etag': 'eoVy35x25QobNtLRIrAQw1v7C1c',\n",
       "   'id': 'vAoB4VbhRzM',\n",
       "   'snippet': {'publishedAt': '2022-02-17T14:54:13Z',\n",
       "    'channelId': 'UCsBjURrPoezykLs9EqgamOA',\n",
       "    'title': 'Firebase in 100 Seconds',\n",
       "    'description': \"Firebase is a suite of tools for building apps on top of Google Cloud Platform. It's most famous for its realtime database, but also includes services for user authentication, serverless computing, push messaging, file storage, and more. https://fireship.io/pro\\n\\n#databases #tech #100SecondsOfCode\\n\\nThis video is NOT sponsored. \\n\\n🔗 Resources\\n\\nFirebase http://firebase.google.com/\\nFirebase Basics Tutorial https://youtu.be/q5J5ho7YUhA\\nFirebase History https://medium.com/firebase-developers/what-is-firebase-the-complete-story-abridged-bcc730c5f2c0\\n\\n🔥 Get More Content - Upgrade to PRO\\n\\nUpgrade to Fireship PRO at https://fireship.io/pro\\nUse code lORhwXd2 for 25% off your first payment. \\n\\n🎨 My Editor Settings\\n\\n- Atom One Dark \\n- vscode-icons\\n- Fira Code Font\\n\\n🔖 Topics Covered\\n\\nWhat is Firebase?\\nFirebase basics tutorial\\nWho founded firebase?\\nIs Firebase owned by Google?\\nWhat is Firebase used for?\\nIs Firebase secure?\",\n",
       "    'thumbnails': {'default': {'url': 'https://i.ytimg.com/vi/vAoB4VbhRzM/default.jpg',\n",
       "      'width': 120,\n",
       "      'height': 90},\n",
       "     'medium': {'url': 'https://i.ytimg.com/vi/vAoB4VbhRzM/mqdefault.jpg',\n",
       "      'width': 320,\n",
       "      'height': 180},\n",
       "     'high': {'url': 'https://i.ytimg.com/vi/vAoB4VbhRzM/hqdefault.jpg',\n",
       "      'width': 480,\n",
       "      'height': 360},\n",
       "     'standard': {'url': 'https://i.ytimg.com/vi/vAoB4VbhRzM/sddefault.jpg',\n",
       "      'width': 640,\n",
       "      'height': 480},\n",
       "     'maxres': {'url': 'https://i.ytimg.com/vi/vAoB4VbhRzM/maxresdefault.jpg',\n",
       "      'width': 1280,\n",
       "      'height': 720}},\n",
       "    'channelTitle': 'Fireship',\n",
       "    'tags': ['webdev', 'app development', 'lesson', 'tutorial'],\n",
       "    'categoryId': '28',\n",
       "    'liveBroadcastContent': 'none',\n",
       "    'localized': {'title': 'Firebase in 100 Seconds',\n",
       "     'description': \"Firebase is a suite of tools for building apps on top of Google Cloud Platform. It's most famous for its realtime database, but also includes services for user authentication, serverless computing, push messaging, file storage, and more. https://fireship.io/pro\\n\\n#databases #tech #100SecondsOfCode\\n\\nThis video is NOT sponsored. \\n\\n🔗 Resources\\n\\nFirebase http://firebase.google.com/\\nFirebase Basics Tutorial https://youtu.be/q5J5ho7YUhA\\nFirebase History https://medium.com/firebase-developers/what-is-firebase-the-complete-story-abridged-bcc730c5f2c0\\n\\n🔥 Get More Content - Upgrade to PRO\\n\\nUpgrade to Fireship PRO at https://fireship.io/pro\\nUse code lORhwXd2 for 25% off your first payment. \\n\\n🎨 My Editor Settings\\n\\n- Atom One Dark \\n- vscode-icons\\n- Fira Code Font\\n\\n🔖 Topics Covered\\n\\nWhat is Firebase?\\nFirebase basics tutorial\\nWho founded firebase?\\nIs Firebase owned by Google?\\nWhat is Firebase used for?\\nIs Firebase secure?\"},\n",
       "    'defaultAudioLanguage': 'en'},\n",
       "   'contentDetails': {'duration': 'PT2M35S',\n",
       "    'dimension': '2d',\n",
       "    'definition': 'hd',\n",
       "    'caption': 'false',\n",
       "    'licensedContent': True,\n",
       "    'contentRating': {},\n",
       "    'projection': 'rectangular'}},\n",
       "  {'kind': 'youtube#video',\n",
       "   'etag': 'SIAW1UTP0i386LI5pWIIEEL-GT0',\n",
       "   'id': 'oUs0j97Jo3A',\n",
       "   'snippet': {'publishedAt': '2023-03-15T23:00:21Z',\n",
       "    'channelId': 'UCOD6LXgeBoeiUZTsPLdG-0g',\n",
       "    'title': 'FIREBASE en 4 MINUTOS',\n",
       "    'description': 'Descubre lo fácil que es aprender Firebase con este video. Veremos de forma resumida lo que necesitas saber para empezar a crear tus primeras aplicaciones web con Firebase.\\n\\nMás tutoriales de Firebase\\nhttps://www.youtube.com/playlist?list=PLvRPaExkZHFmV2Wh3Wqh_1SqXHUgHIhc9\\n\\n👍 Apóyame con un like para llegar a más developers 😊\\n✅ Te invito a suscribirte al canal 👉 http://bit.ly/Youtube-VidaMRR\\n🔔 Activa la campanita  para notificarte del siguiente video\\n\\n✅ Sígueme en las redes sociales:\\nDiscord https://discord.gg/jrF6fv4j2p\\nFacebook https://www.facebook.com/vidamrr/\\nTwitter https://twitter.com/vidamrr\\nInstagram https://www.instagram.com/vidamrr/\\n\\n#firebase #desarrolloweb #firebasetutorial',\n",
       "    'thumbnails': {'default': {'url': 'https://i.ytimg.com/vi/oUs0j97Jo3A/default.jpg',\n",
       "      'width': 120,\n",
       "      'height': 90},\n",
       "     'medium': {'url': 'https://i.ytimg.com/vi/oUs0j97Jo3A/mqdefault.jpg',\n",
       "      'width': 320,\n",
       "      'height': 180},\n",
       "     'high': {'url': 'https://i.ytimg.com/vi/oUs0j97Jo3A/hqdefault.jpg',\n",
       "      'width': 480,\n",
       "      'height': 360},\n",
       "     'standard': {'url': 'https://i.ytimg.com/vi/oUs0j97Jo3A/sddefault.jpg',\n",
       "      'width': 640,\n",
       "      'height': 480},\n",
       "     'maxres': {'url': 'https://i.ytimg.com/vi/oUs0j97Jo3A/maxresdefault.jpg',\n",
       "      'width': 1280,\n",
       "      'height': 720}},\n",
       "    'channelTitle': 'Vida MRR - Programacion web',\n",
       "    'tags': ['vidamrr',\n",
       "     'desarrollo web',\n",
       "     'programacion web',\n",
       "     'diseño web',\n",
       "     'tutoriales',\n",
       "     'tutorial de firebase',\n",
       "     'firebase en 4 minutos',\n",
       "     'servicios de firebase review',\n",
       "     'curso firebase para principiante',\n",
       "     'firebase tutorial'],\n",
       "    'categoryId': '28',\n",
       "    'liveBroadcastContent': 'none',\n",
       "    'defaultLanguage': 'es-419',\n",
       "    'localized': {'title': 'FIREBASE en 4 MINUTOS',\n",
       "     'description': 'Descubre lo fácil que es aprender Firebase con este video. Veremos de forma resumida lo que necesitas saber para empezar a crear tus primeras aplicaciones web con Firebase.\\n\\nMás tutoriales de Firebase\\nhttps://www.youtube.com/playlist?list=PLvRPaExkZHFmV2Wh3Wqh_1SqXHUgHIhc9\\n\\n👍 Apóyame con un like para llegar a más developers 😊\\n✅ Te invito a suscribirte al canal 👉 http://bit.ly/Youtube-VidaMRR\\n🔔 Activa la campanita  para notificarte del siguiente video\\n\\n✅ Sígueme en las redes sociales:\\nDiscord https://discord.gg/jrF6fv4j2p\\nFacebook https://www.facebook.com/vidamrr/\\nTwitter https://twitter.com/vidamrr\\nInstagram https://www.instagram.com/vidamrr/\\n\\n#firebase #desarrolloweb #firebasetutorial'},\n",
       "    'defaultAudioLanguage': 'es-419'},\n",
       "   'contentDetails': {'duration': 'PT4M11S',\n",
       "    'dimension': '2d',\n",
       "    'definition': 'hd',\n",
       "    'caption': 'false',\n",
       "    'licensedContent': True,\n",
       "    'contentRating': {},\n",
       "    'projection': 'rectangular'}}],\n",
       " 'pageInfo': {'totalResults': 2, 'resultsPerPage': 2}}"
      ]
     },
     "execution_count": 11,
     "metadata": {},
     "output_type": "execute_result"
    }
   ],
   "source": [
    "request = youtube.videos().list(\n",
    "    id=[item['id']['videoId'] for item in response['items']],\n",
    "    part=['snippet', 'contentDetails'],\n",
    ")\n",
    "request.execute()"
   ]
  },
  {
   "cell_type": "code",
   "execution_count": 30,
   "metadata": {},
   "outputs": [
    {
     "name": "stdout",
     "output_type": "stream",
     "text": [
      "CAcQAQ\n",
      "Manuel Medrano - Bajo El Agua (Video Oficial)\n",
      "Dulce Pecado - Jessi Uribe l Video Oficial\n",
      "Carlos Vives, Shakira - La Bicicleta\n",
      "Esperándote - MTZ Manuel Turizo | Video Oficial\n",
      "Yiyo Sarante - Manos de Tijera (Video Oficial)\n"
     ]
    }
   ],
   "source": [
    "request = youtube.search().list(\n",
    "    part='snippet',\n",
    "    type='video',\n",
    "    # q= \"firebase\",\n",
    "    pageToken= response['nextPageToken'],\n",
    ")\n",
    "response = request.execute()\n",
    "\n",
    "print(response['prevPageToken'])\n",
    "for item in response['items']:\n",
    "    print(item['snippet']['title'])"
   ]
  },
  {
   "cell_type": "code",
   "execution_count": 25,
   "metadata": {},
   "outputs": [
    {
     "data": {
      "text/plain": [
       "{'kind': 'youtube#searchListResponse',\n",
       " 'etag': 'qgMfKppReb2qKFiVeKhOHaP5l10',\n",
       " 'nextPageToken': 'CAcQAA',\n",
       " 'prevPageToken': 'CAIQAQ',\n",
       " 'regionCode': 'CO',\n",
       " 'pageInfo': {'totalResults': 1000000, 'resultsPerPage': 5},\n",
       " 'items': [{'kind': 'youtube#searchResult',\n",
       "   'etag': 'UlQYlIzvQ32axCEPCd45tFuFnjI',\n",
       "   'id': {'kind': 'youtube#video', 'videoId': 'iatRLd61-Fs'},\n",
       "   'snippet': {'publishedAt': '2022-02-10T10:07:48Z',\n",
       "    'channelId': 'UCKFuv0p96yIcHMfgsaWNaKQ',\n",
       "    'title': 'PROCREATE for Beginners: Digital Illustration 101 - Course by Brad Woodard | Domestika',\n",
       "    'description': 'Learn to use Procreate from scratch and create professional artwork from your iPad Pro: ...',\n",
       "    'thumbnails': {'default': {'url': 'https://i.ytimg.com/vi/iatRLd61-Fs/default.jpg',\n",
       "      'width': 120,\n",
       "      'height': 90},\n",
       "     'medium': {'url': 'https://i.ytimg.com/vi/iatRLd61-Fs/mqdefault.jpg',\n",
       "      'width': 320,\n",
       "      'height': 180},\n",
       "     'high': {'url': 'https://i.ytimg.com/vi/iatRLd61-Fs/hqdefault.jpg',\n",
       "      'width': 480,\n",
       "      'height': 360}},\n",
       "    'channelTitle': 'Domestika English',\n",
       "    'liveBroadcastContent': 'none',\n",
       "    'publishTime': '2022-02-10T10:07:48Z'}},\n",
       "  {'kind': 'youtube#searchResult',\n",
       "   'etag': 'T5dSJjl0zTKs0aS0QTNRP0okIjs',\n",
       "   'id': {'kind': 'youtube#video', 'videoId': 'EedPfUeBf2A'},\n",
       "   'snippet': {'publishedAt': '2018-02-23T05:00:00Z',\n",
       "    'channelId': 'UCf-Szc6YLd8rMnMXGThznFg',\n",
       "    'title': 'Greeicy - Más Fuerte (Video Oficial)',\n",
       "    'description': 'Watch the official video for \"Más Fuerte\" performed by Greeicy Music video by Greeicy performing Más Fuerte. (C) 2018 UMG ...',\n",
       "    'thumbnails': {'default': {'url': 'https://i.ytimg.com/vi/EedPfUeBf2A/default.jpg',\n",
       "      'width': 120,\n",
       "      'height': 90},\n",
       "     'medium': {'url': 'https://i.ytimg.com/vi/EedPfUeBf2A/mqdefault.jpg',\n",
       "      'width': 320,\n",
       "      'height': 180},\n",
       "     'high': {'url': 'https://i.ytimg.com/vi/EedPfUeBf2A/hqdefault.jpg',\n",
       "      'width': 480,\n",
       "      'height': 360}},\n",
       "    'channelTitle': 'GreeicyVEVO',\n",
       "    'liveBroadcastContent': 'none',\n",
       "    'publishTime': '2018-02-23T05:00:00Z'}},\n",
       "  {'kind': 'youtube#searchResult',\n",
       "   'etag': 'XKzyJ9f1fshodb_DancZtNCNMjU',\n",
       "   'id': {'kind': 'youtube#video', 'videoId': '30bpKbrhqek'},\n",
       "   'snippet': {'publishedAt': '2021-09-08T22:00:10Z',\n",
       "    'channelId': 'UCYnMT8rirp5aKOufiwkXEAw',\n",
       "    'title': 'Kany García - DPM (De Pxta Madre - Official Video)',\n",
       "    'description': 'Kany García – DPM (De Pxta Madre - Official Video) Música: Apple Music: https://KanyGarcia.lnk.to/DPM/applemusic Spotify: ...',\n",
       "    'thumbnails': {'default': {'url': 'https://i.ytimg.com/vi/30bpKbrhqek/default.jpg',\n",
       "      'width': 120,\n",
       "      'height': 90},\n",
       "     'medium': {'url': 'https://i.ytimg.com/vi/30bpKbrhqek/mqdefault.jpg',\n",
       "      'width': 320,\n",
       "      'height': 180},\n",
       "     'high': {'url': 'https://i.ytimg.com/vi/30bpKbrhqek/hqdefault.jpg',\n",
       "      'width': 480,\n",
       "      'height': 360}},\n",
       "    'channelTitle': 'kanygarciaVEVO',\n",
       "    'liveBroadcastContent': 'none',\n",
       "    'publishTime': '2021-09-08T22:00:10Z'}},\n",
       "  {'kind': 'youtube#searchResult',\n",
       "   'etag': 'HfjMPjrlMjTqrZw8clf5MwS3K54',\n",
       "   'id': {'kind': 'youtube#video', 'videoId': 'Mtau4v6foHA'},\n",
       "   'snippet': {'publishedAt': '2017-07-28T07:00:01Z',\n",
       "    'channelId': 'UChcn-n6L8vYHzsqOwOubdRQ',\n",
       "    'title': 'Carlos Vives, Sebastián Yatra - Robarte un Beso (Official Video)',\n",
       "    'description': 'Carlos Vives & Sebastian Yatra - \"Robarte Un Beso\" (Official Music Video) \"Robarte Un Beso\" is available on these digital ...',\n",
       "    'thumbnails': {'default': {'url': 'https://i.ytimg.com/vi/Mtau4v6foHA/default.jpg',\n",
       "      'width': 120,\n",
       "      'height': 90},\n",
       "     'medium': {'url': 'https://i.ytimg.com/vi/Mtau4v6foHA/mqdefault.jpg',\n",
       "      'width': 320,\n",
       "      'height': 180},\n",
       "     'high': {'url': 'https://i.ytimg.com/vi/Mtau4v6foHA/hqdefault.jpg',\n",
       "      'width': 480,\n",
       "      'height': 360}},\n",
       "    'channelTitle': 'CarlosVivesVEVO',\n",
       "    'liveBroadcastContent': 'none',\n",
       "    'publishTime': '2017-07-28T07:00:01Z'}},\n",
       "  {'kind': 'youtube#searchResult',\n",
       "   'etag': 'a25xN8pidQLvQglMaytHgTKSCT8',\n",
       "   'id': {'kind': 'youtube#video', 'videoId': 'dX-aMAzhUxI'},\n",
       "   'snippet': {'publishedAt': '2022-02-15T01:11:10Z',\n",
       "    'channelId': 'UCqlr4KIu4W5ZVQASmFyJT1w',\n",
       "    'title': 'PredictWind Overview',\n",
       "    'description': 'PredictWind is the world leader in Wind Forecasting. With 20000 live observations, weather routing and departure planning, it is ...',\n",
       "    'thumbnails': {'default': {'url': 'https://i.ytimg.com/vi/dX-aMAzhUxI/default.jpg',\n",
       "      'width': 120,\n",
       "      'height': 90},\n",
       "     'medium': {'url': 'https://i.ytimg.com/vi/dX-aMAzhUxI/mqdefault.jpg',\n",
       "      'width': 320,\n",
       "      'height': 180},\n",
       "     'high': {'url': 'https://i.ytimg.com/vi/dX-aMAzhUxI/hqdefault.jpg',\n",
       "      'width': 480,\n",
       "      'height': 360}},\n",
       "    'channelTitle': 'PredictWind',\n",
       "    'liveBroadcastContent': 'none',\n",
       "    'publishTime': '2022-02-15T01:11:10Z'}}]}"
      ]
     },
     "execution_count": 25,
     "metadata": {},
     "output_type": "execute_result"
    }
   ],
   "source": [
    "response"
   ]
  },
  {
   "cell_type": "code",
   "execution_count": 14,
   "metadata": {},
   "outputs": [
    {
     "data": {
      "text/plain": [
       "'CAIQAA'"
      ]
     },
     "execution_count": 14,
     "metadata": {},
     "output_type": "execute_result"
    }
   ],
   "source": [
    "response['nextPageToken']"
   ]
  }
 ],
 "metadata": {
  "kernelspec": {
   "display_name": ".venv",
   "language": "python",
   "name": "python3"
  },
  "language_info": {
   "codemirror_mode": {
    "name": "ipython",
    "version": 3
   },
   "file_extension": ".py",
   "mimetype": "text/x-python",
   "name": "python",
   "nbconvert_exporter": "python",
   "pygments_lexer": "ipython3",
   "version": "3.12.4"
  }
 },
 "nbformat": 4,
 "nbformat_minor": 2
}
