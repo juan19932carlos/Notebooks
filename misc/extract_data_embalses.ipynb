{
 "cells": [
  {
   "cell_type": "code",
   "execution_count": null,
   "id": "08a17663",
   "metadata": {},
   "outputs": [
    {
     "name": "stderr",
     "output_type": "stream",
     "text": [
      "Matplotlib is building the font cache; this may take a moment.\n"
     ]
    }
   ],
   "source": [
    "import pandas as pd\n",
    "from bs4 import BeautifulSoup\n",
    "import requests\n",
    "import re\n",
    "import datetime\n",
    "from tqdm import tqdm\n",
    "import matplotlib.pyplot as plt\n",
    "\n",
    "tqdm.pandas()"
   ]
  },
  {
   "cell_type": "code",
   "execution_count": null,
   "id": "fa184f96",
   "metadata": {},
   "outputs": [
    {
     "data": {
      "application/vnd.microsoft.datawrangler.viewer.v0+json": {
       "columns": [
        {
         "name": "index",
         "rawType": "int64",
         "type": "integer"
        },
        {
         "name": "URL",
         "rawType": "object",
         "type": "string"
        }
       ],
       "conversionMethod": "pd.DataFrame",
       "ref": "3c91b736-4ba8-4b47-b2f8-28844bb47271",
       "rows": [
        [
         "315",
         "https://bogota.gov.co//mi-ciudad/habitat/racionamiento-de-agua-en-bogota-consumo-y-nivel-embalse-3-de-diciembre"
        ]
       ],
       "shape": {
        "columns": 1,
        "rows": 1
       }
      },
      "text/html": [
       "<div>\n",
       "<style scoped>\n",
       "    .dataframe tbody tr th:only-of-type {\n",
       "        vertical-align: middle;\n",
       "    }\n",
       "\n",
       "    .dataframe tbody tr th {\n",
       "        vertical-align: top;\n",
       "    }\n",
       "\n",
       "    .dataframe thead th {\n",
       "        text-align: right;\n",
       "    }\n",
       "</style>\n",
       "<table border=\"1\" class=\"dataframe\">\n",
       "  <thead>\n",
       "    <tr style=\"text-align: right;\">\n",
       "      <th></th>\n",
       "      <th>URL</th>\n",
       "    </tr>\n",
       "  </thead>\n",
       "  <tbody>\n",
       "    <tr>\n",
       "      <th>315</th>\n",
       "      <td>https://bogota.gov.co//mi-ciudad/habitat/racio...</td>\n",
       "    </tr>\n",
       "  </tbody>\n",
       "</table>\n",
       "</div>"
      ],
      "text/plain": [
       "                                                   URL\n",
       "315  https://bogota.gov.co//mi-ciudad/habitat/racio..."
      ]
     },
     "execution_count": 2,
     "metadata": {},
     "output_type": "execute_result"
    }
   ],
   "source": [
    "df = pd.read_csv('../data/embalces_urls.csv')\n",
    "df.sample()"
   ]
  },
  {
   "cell_type": "code",
   "execution_count": 3,
   "id": "71edadba",
   "metadata": {},
   "outputs": [
    {
     "name": "stderr",
     "output_type": "stream",
     "text": [
      "100%|██████████| 388/388 [05:57<00:00,  1.08it/s]\n"
     ]
    },
    {
     "data": {
      "application/vnd.microsoft.datawrangler.viewer.v0+json": {
       "columns": [
        {
         "name": "index",
         "rawType": "int64",
         "type": "integer"
        },
        {
         "name": "URL",
         "rawType": "object",
         "type": "string"
        },
        {
         "name": "html_content",
         "rawType": "object",
         "type": "string"
        }
       ],
       "conversionMethod": "pd.DataFrame",
       "ref": "4a31c2b9-e9ed-4c12-ab02-850cc358dfa4",
       "rows": [
        [
         "225",
         "https://bogota.gov.co//mi-ciudad/habitat/racionamiento-de-agua-en-bogota-martes-15-de-octubre-consumo-y-embalse",
         " Datos del consumo de agua del turno del martes 15 de octubre en Bogotá 16·OCT·2024 El nivel de los embalses del Sistema Chingaza, con corte al 15 de octubre se encuentra en 44,54 %, Chingaza bajó: -180.000 m3. Imagen: Alcaldía Mayor de Bogotá.  Sigue las recomendaciones del Acueducto de Bogotá y adopta un consumo responsable del agua. Publicado por: Angie Ruíz RojasÚnete a nuestro canal de noticias en WhatsAppEl martes 15 de octubre de 2024, según datos de la Empresa de Acueducto y Alcantarillado de Bogotá (EAAB), se presentó en Bogotá y municipios aledaños, un consumo de agua de 15,72 metros cúbicos por segundo. El nivel de los embalses del Sistema Chingaza, con corte al 15 de octubre se encuentra en 44,54 %, Chingaza bajó: -180.000 m3.Te puede interesar: Conoce tu turno de racionamiento de agua en la ciudad con Mapas BogotáLlueve en Bogotá, pero no lo suficiente en el Sistema Chingaza, por este motivo, debemos tener un mayor compromiso de ahorro, cuidemos hasta la última gota de agua. Juntos podemos evitar llegar al Día Cero #PorUnConsumoResponsableDelAgua. A continuación te compartimos una imagen de la Alcaldía de Bogotá con más detalles del consumo de agua del martes 15 de octubre de 2024: 💧El consumo de agua en Bogotá durante el 15 de octubre fue de 15,72 m³/s. El nivel de los embalses del Sistema Chingaza se encuentra en 44,54 %. #CierraLaLlaveYapic.twitter.com/yAyUsvhzC2\n— Alcaldía de Bogotá (@Bogota) October 16, 2024Sigue estas recomendaciones del Acueducto y Alcantarillado de Bogotá para el consumo responsable de agua1. No acumular de agua durante los turnos de racionamiento. Evitar el desperdicio.2. Reutilizar el agua de la lavadora para descargar el sanitario.3. Cerrar la llave de los lavamos cuando nos enjabonamos las manos.4. Lavarnos los dientes con un vaso de agua.5. Disminuir al máximo el periodo de riego de jardines.No te vayas sin consultar: ¡Turno uno! Racionamiento de agua en Bogotá jueves 17 de octubre de 20246. No lavar el carro con manguera, usar trapo y balde con agua.   Racionamiento de aguaAcueducto BogotáEmpresa de Acueducto y Alcantarillado de Bogotá - ESPAguacortes de aguaCortes de agua en BogotáAmbienteAhorro de aguaembalsesembalseserviciosEmpresa de Acueducto y Alcantarillado de Bogotá ESP COMPARTE:"
        ]
       ],
       "shape": {
        "columns": 2,
        "rows": 1
       }
      },
      "text/html": [
       "<div>\n",
       "<style scoped>\n",
       "    .dataframe tbody tr th:only-of-type {\n",
       "        vertical-align: middle;\n",
       "    }\n",
       "\n",
       "    .dataframe tbody tr th {\n",
       "        vertical-align: top;\n",
       "    }\n",
       "\n",
       "    .dataframe thead th {\n",
       "        text-align: right;\n",
       "    }\n",
       "</style>\n",
       "<table border=\"1\" class=\"dataframe\">\n",
       "  <thead>\n",
       "    <tr style=\"text-align: right;\">\n",
       "      <th></th>\n",
       "      <th>URL</th>\n",
       "      <th>html_content</th>\n",
       "    </tr>\n",
       "  </thead>\n",
       "  <tbody>\n",
       "    <tr>\n",
       "      <th>225</th>\n",
       "      <td>https://bogota.gov.co//mi-ciudad/habitat/racio...</td>\n",
       "      <td>Datos del consumo de agua del turno del marte...</td>\n",
       "    </tr>\n",
       "  </tbody>\n",
       "</table>\n",
       "</div>"
      ],
      "text/plain": [
       "                                                   URL  \\\n",
       "225  https://bogota.gov.co//mi-ciudad/habitat/racio...   \n",
       "\n",
       "                                          html_content  \n",
       "225   Datos del consumo de agua del turno del marte...  "
      ]
     },
     "execution_count": 3,
     "metadata": {},
     "output_type": "execute_result"
    }
   ],
   "source": [
    "def get_page_content(url):\n",
    "    html = requests.get(url).content\n",
    "    soup = BeautifulSoup(html)\n",
    "    content_element = soup.find('div', {'class': 'v2024-article-wrapper'})\n",
    "\n",
    "    return content_element.get_text()\n",
    "\n",
    "df['html_content'] = df['URL'].progress_apply(get_page_content)\n",
    "df.sample()"
   ]
  },
  {
   "cell_type": "code",
   "execution_count": 4,
   "id": "6040eb3b",
   "metadata": {},
   "outputs": [
    {
     "name": "stderr",
     "output_type": "stream",
     "text": [
      "100%|██████████| 388/388 [00:00<00:00, 66712.71it/s]\n"
     ]
    },
    {
     "data": {
      "application/vnd.microsoft.datawrangler.viewer.v0+json": {
       "columns": [
        {
         "name": "index",
         "rawType": "int64",
         "type": "integer"
        },
        {
         "name": "URL",
         "rawType": "object",
         "type": "string"
        },
        {
         "name": "html_content",
         "rawType": "object",
         "type": "string"
        },
        {
         "name": "date",
         "rawType": "object",
         "type": "unknown"
        }
       ],
       "conversionMethod": "pd.DataFrame",
       "ref": "a6867a71-130c-47f1-9f00-cf67f42f19ba",
       "rows": [
        [
         "20",
         "https://bogota.gov.co//mi-ciudad/habitat/racionamiento-de-agua-en-bogota-embalses-y-consumo-17-de-mayo-2024",
         " Niveles de embalses y consumo de agua turno de racionamiento viernes 17 de mayo 18·MAYO·2024 El nivel de los embalses del Sistema Chingaza, con corte del 17 de mayo, están en 24,05% y la meta para final de año es llegar a 75%. Imagen: Alcaldía Mayor de Bogotá El nivel de los embalses del Sistema Chingaza, con corte del 17 de mayo, están en 24,05% y la meta para final de año es llegar a 75%. Publicado por: Sergio Grandas MedinaÚnete a nuestro canal de noticias en WhatsAppEl turno uno de racionamiento de agua del quinto ciclo que terminó a las 8:00 a. m. de este sábado 18 de mayo, según reporte de la Empresa de Acueducto y Alcantarillado de Bogotá (EAAB), presentó un consumo promedio de 16,12 m³ por segundo. El nivel de los embalses del Sistema Chingaza, pasaron de 23,9 % (16 de mayo) a 24,05 % con corte al 17 de mayo. La meta para final de año es llegar a 75 %. en los niveles de reserva.(Te puede interesar: Barrios con turno de racionamiento de agua en Bogotá este domingo 19 de mayo) El Distrito sigue invitando a la ciudadanía a racionar el consumo de agua, a cambiar hábitos y contribuir con el ahorro de agua para garantizar que todos los ciudadanos en Bogotá y municipios aledaños tengan acceso a este líquido vital.A continuación una gráfica con los datos de consumo de agua en Bogotá de este 17 de mayo 2024:#CierreLaLlaveYa y ayuda a contribuir con el ahorro del agua en la ciudad. Recuerda que no se trata de guardar agua sino de consumir menos. Ayuda con duchas de tres minutos, evita el lavado de carros, ventanas o fachadas y no acumules más agua de la necesaria para lo básico.(Te puede interesar: Así puedes reportar hurto o daños en el alumbrado público de Bogotá) Te compartimos un post del alcalde Carlos Fernando Galán con más detalles del reporte de consumo de agua de ayer 17 de mayo de 2024: ¿Qué hemos logrado?Reducir en más de 20% el agua que traemos de Chingaza.¿Qué podemos mejorar?Reducir aún más nuestro consumo de agua.¿Cómo podemos hacerlo?Usando solo un vaso de agua para lavarnos los dientes. Es suficiente. pic.twitter.com/9c1HSc3Dm9\n— Carlos F. Galán (@CarlosFGalan) May 18, 2024embalsesRacionamiento de aguaAhorro de aguaAguaAmbienteSecretaría Distrital de Ambiente - SDAEmpresa de Acueducto y Alcantarillado de Bogotá ESPInstituto Distrital de Gestión de Riesgos y Cambio Climático - IDIGER COMPARTE:",
         "2024-05-17 00:00:00"
        ],
        [
         "243",
         "https://bogota.gov.co//mi-ciudad/habitat/senderos-ecologicos-de-bogota-siguen-cerrados-temporalmente-2024",
         " ¡Pilas! Senderos ecológicos de Bogotá siguen cerrados temporalmente 4·OCT·2024 La medida se adopta para evitar incendios forestales por las altas temperaturas y por el llamado al consumo responsable del agua. Foto: Acueducto de Bogotá. La Empresa hace un llamado a la ciudadanía para denunciar actividades que puedan poner en riesgo las especies que habitan estas zonas de la ciudad. Publicado por: Angie Ruíz RojasÚnete a nuestro canal de noticias en WhatsAppRecuerda que el Distrito junto con la Empresa de Acueducto y Alcantarillado de Bogotá (EAAB), con el fin de evitar posibles incendios, como los que ya se han presentado en la ciudad determinó, que desde el 21 de septiembre de 2024, se encuentran cerrados los Caminos de los Cerros administrados por la Empresa.Te puede interesar: ABC de los programas y subsidios del plan de vivienda 'Mi Casa en Bogotá'La medida preventiva se adopta para la mitigación de incendios forestales ante las altas temperaturas que se vienen presentando y por el llamado al consumo responsable del agua.Con la medida se restringe el acceso a los senderos: - Santa Ana – La Aguadora- Quebrada La Vieja- San Francisco - Vicachá- Guadalupe – Aguanoso- Kilómetro 11 y 12 Quebradas- La SerraníaIgualmente, la Empresa hace un llamado a la ciudadanía y a los vecinos de los cerros a informar a la Línea 123 en caso de evidenciar columnas de humo a lo largo de los cerros y denunciar actividades que puedan poner en riesgo las especies que habitan este borde de la ciudad.Lee también: Video: ¿Por qué se demora en llegar el agua después del turno de racionamientoAcueducto BogotáEmpresa de Acueducto y Alcantarillado de Bogotá - ESPAguacortes de aguaEmpresa de AcueductoCaminatas ecológicasCaminatascaminatas ambientalessenderosCerros orientalesCerrosserviciosPlanes BogotáplanesTurismoTurismo en Bogotáturismo naturalSendero ecológicoSecretaría Distrital del Hábitat COMPARTE:",
         null
        ]
       ],
       "shape": {
        "columns": 3,
        "rows": 2
       }
      },
      "text/html": [
       "<div>\n",
       "<style scoped>\n",
       "    .dataframe tbody tr th:only-of-type {\n",
       "        vertical-align: middle;\n",
       "    }\n",
       "\n",
       "    .dataframe tbody tr th {\n",
       "        vertical-align: top;\n",
       "    }\n",
       "\n",
       "    .dataframe thead th {\n",
       "        text-align: right;\n",
       "    }\n",
       "</style>\n",
       "<table border=\"1\" class=\"dataframe\">\n",
       "  <thead>\n",
       "    <tr style=\"text-align: right;\">\n",
       "      <th></th>\n",
       "      <th>URL</th>\n",
       "      <th>html_content</th>\n",
       "      <th>date</th>\n",
       "    </tr>\n",
       "  </thead>\n",
       "  <tbody>\n",
       "    <tr>\n",
       "      <th>20</th>\n",
       "      <td>https://bogota.gov.co//mi-ciudad/habitat/racio...</td>\n",
       "      <td>Niveles de embalses y consumo de agua turno d...</td>\n",
       "      <td>2024-05-17 00:00:00</td>\n",
       "    </tr>\n",
       "    <tr>\n",
       "      <th>243</th>\n",
       "      <td>https://bogota.gov.co//mi-ciudad/habitat/sende...</td>\n",
       "      <td>¡Pilas! Senderos ecológicos de Bogotá siguen ...</td>\n",
       "      <td>&lt;NA&gt;</td>\n",
       "    </tr>\n",
       "  </tbody>\n",
       "</table>\n",
       "</div>"
      ],
      "text/plain": [
       "                                                   URL  \\\n",
       "20   https://bogota.gov.co//mi-ciudad/habitat/racio...   \n",
       "243  https://bogota.gov.co//mi-ciudad/habitat/sende...   \n",
       "\n",
       "                                          html_content                 date  \n",
       "20    Niveles de embalses y consumo de agua turno d...  2024-05-17 00:00:00  \n",
       "243   ¡Pilas! Senderos ecológicos de Bogotá siguen ...                 <NA>  "
      ]
     },
     "execution_count": 4,
     "metadata": {},
     "output_type": "execute_result"
    }
   ],
   "source": [
    "spanish_months = ['enero', 'febrero', 'marzo', 'abril', 'mayo', 'junio', 'julio', 'agosto', 'septiembre', 'octubre', 'noviembre', 'diciembre']\n",
    "month_map = {name: index for index, name in enumerate(spanish_months, start=1)}\n",
    "\n",
    "def get_date(row):\n",
    "    url = row['URL']\n",
    "    day = re.search(r'-(\\d{1,2})-', url)\n",
    "    month = re.search(r'(' + '|'.join(spanish_months) + r')', url)\n",
    "    year = re.search(r'-(\\d{4})', url)\n",
    "    \n",
    "    if month and day and not year:\n",
    "        year = re.search(r\"\\d{1,2}·[A-Z]+·(\\d{4})\", row['html_content'])\n",
    "\n",
    "    if day and month and year:\n",
    "        return datetime.datetime(int(year.group(1)), month_map[month.group(1)], int(day.group(1)))\n",
    "        \n",
    "    return pd.NA\n",
    "    \n",
    "df['date'] = df.progress_apply(get_date, axis=1)\n",
    "df.sample(2)"
   ]
  },
  {
   "cell_type": "code",
   "execution_count": 17,
   "id": "f6161cf5",
   "metadata": {},
   "outputs": [
    {
     "name": "stderr",
     "output_type": "stream",
     "text": [
      "100%|██████████| 388/388 [00:00<00:00, 17022.20it/s]\n"
     ]
    },
    {
     "data": {
      "application/vnd.microsoft.datawrangler.viewer.v0+json": {
       "columns": [
        {
         "name": "index",
         "rawType": "int64",
         "type": "integer"
        },
        {
         "name": "URL",
         "rawType": "object",
         "type": "string"
        },
        {
         "name": "html_content",
         "rawType": "object",
         "type": "string"
        },
        {
         "name": "date",
         "rawType": "object",
         "type": "unknown"
        },
        {
         "name": "found_percentages",
         "rawType": "object",
         "type": "unknown"
        }
       ],
       "conversionMethod": "pd.DataFrame",
       "ref": "f2688731-e6b2-4a96-bba8-9a7ea89450b7",
       "rows": [
        [
         "156",
         "https://bogota.gov.co//mi-ciudad/habitat/racionamiento-de-agua-en-bogota-jueves-1-de-agosto-2024-nivel-embalses",
         " ¡Te contamos! Consumo de agua en Bogotá del jueves primero de agosto 2·AGO·2024 El consumo de agua en Bogotá durante el turno de racionamiento del jueves 1 de agosto fue de 17,19 metros cúbicos por segundo. Imagen: Alcaldía Mayor de Bogotá.  El consumo de agua en Bogotá durante el turno de racionamiento del jueves 1 de agosto fue de 17,19 metros cúbicos por segundo. Publicado por: Angie Ruíz RojasÚnete a nuestro canal de noticias en WhatsAppSegún datos reportados por la Empresa de Acueducto y Alcantarillado de Bogotá (EAAB), el nivel de los embalses del Sistema Chingaza, con corte al jueves primero de agosto, se encuentra en 51,25 %. Te puede interesar: Conoce los turnos de racionamiento de agua en Bogotá y municipios durante agostoEl consumo de agua en Bogotá durante el turno de racionamiento del jueves 1 de agosto fue de 17,19 metros cúbicos por segundo.A continuación te compartimos un post de la Alcaldía de Bogotá con más detalles del consumo de agua del 1 de agosto:💧 El consumo de agua en Bogotá durante el 1 de agosto fue de 17.19 m³/s. El nivel de los embalses del Sistema Chingaza se encuentra en 51.25 %. #CierraLaLlaveYapic.twitter.com/uh23Q5u0lO\n— Alcaldía de Bogotá (@Bogota) August 2, 2024Sigue estas recomendaciones del Acueducto de Bogotá para el ahorro de agua:1. No acumular de agua durante los turnos de racionamiento. Evitar el desperdicio.2. Reutilizar el agua de la lavadora para descargar el sanitario.3. Cerrar la llave de los lavamos cuando nos enjabonamos las manos.4. Lavarnos los dientes con un vaso de agua.5. Disminuir al máximo el periodo de riego de jardines.6. No lavar el carro con manguera, usar trapo y balde con agua. A continuación te compartimos una imagen de la Alcaldía de Bogotá con las cifras del consumo de agua del 1 de agosto: Racionamiento de aguaAcueducto BogotáEmpresa de Acueducto y Alcantarillado de Bogotá - ESPcortes de aguaCortes de agua en BogotáembalsesEmpresa de Acueducto y Alcantarillado de Bogotá ESP COMPARTE:",
         "2024-08-01 00:00:00",
         "[51.25, 51.25]"
        ],
        [
         "125",
         "https://bogota.gov.co//mi-ciudad/habitat/racionamiento-de-agua-en-bogota-miercoles-28-de-agosto-datos-consumo",
         " Conoce datos del consumo de agua en Bogotá del miércoles 28 de agosto 29·AGO·2024 El consumo de agua en Bogotá y municipios aledaños, durante el miércoles 28 de agosto, fue de 16,32 metros cúbicos por segundo. Foto: Alcaldía de Bogotá El consumo de agua en Bogotá y municipios aledaños, durante el miércoles 28 de agosto, fue de 16,32 metros cúbicos por segundo. Publicado por: Angie Ruíz RojasÚnete a nuestro canal de noticias en WhatsAppSegún datos de la Empresa de Acueducto y Alcantarillado de Bogotá (EAAB) el nivel de los embalses del Sistema Chingaza, con corte al miércoles 28 de agosto, se encuentra en 49,96 %. #CierraLaLlaveYa El consumo de agua en Bogotá y municipios aledaños, durante el miércoles 28 de agosto, fue de 16,32 metros cúbicos por segundo.Te puede interesar: Turnos racionamiento de agua del 24 de agosto al 10 de septiembre ¡Prográmate! A continuación te compartimos una imagen de la Alcaldía de Bogotá con más detalles del consumo de agua del miércoles 28 de agosto de 2024:  Racionamiento de aguaAguacortes de aguaembalseAhorro de aguaEmpresa de Acueducto y Alcantarillado de Bogotá ESP COMPARTE:",
         "2024-08-28 00:00:00",
         "[49.96]"
        ]
       ],
       "shape": {
        "columns": 4,
        "rows": 2
       }
      },
      "text/html": [
       "<div>\n",
       "<style scoped>\n",
       "    .dataframe tbody tr th:only-of-type {\n",
       "        vertical-align: middle;\n",
       "    }\n",
       "\n",
       "    .dataframe tbody tr th {\n",
       "        vertical-align: top;\n",
       "    }\n",
       "\n",
       "    .dataframe thead th {\n",
       "        text-align: right;\n",
       "    }\n",
       "</style>\n",
       "<table border=\"1\" class=\"dataframe\">\n",
       "  <thead>\n",
       "    <tr style=\"text-align: right;\">\n",
       "      <th></th>\n",
       "      <th>URL</th>\n",
       "      <th>html_content</th>\n",
       "      <th>date</th>\n",
       "      <th>found_percentages</th>\n",
       "    </tr>\n",
       "  </thead>\n",
       "  <tbody>\n",
       "    <tr>\n",
       "      <th>156</th>\n",
       "      <td>https://bogota.gov.co//mi-ciudad/habitat/racio...</td>\n",
       "      <td>¡Te contamos! Consumo de agua en Bogotá del j...</td>\n",
       "      <td>2024-08-01 00:00:00</td>\n",
       "      <td>[51.25, 51.25]</td>\n",
       "    </tr>\n",
       "    <tr>\n",
       "      <th>125</th>\n",
       "      <td>https://bogota.gov.co//mi-ciudad/habitat/racio...</td>\n",
       "      <td>Conoce datos del consumo de agua en Bogotá de...</td>\n",
       "      <td>2024-08-28 00:00:00</td>\n",
       "      <td>[49.96]</td>\n",
       "    </tr>\n",
       "  </tbody>\n",
       "</table>\n",
       "</div>"
      ],
      "text/plain": [
       "                                                   URL  \\\n",
       "156  https://bogota.gov.co//mi-ciudad/habitat/racio...   \n",
       "125  https://bogota.gov.co//mi-ciudad/habitat/racio...   \n",
       "\n",
       "                                          html_content                 date  \\\n",
       "156   ¡Te contamos! Consumo de agua en Bogotá del j...  2024-08-01 00:00:00   \n",
       "125   Conoce datos del consumo de agua en Bogotá de...  2024-08-28 00:00:00   \n",
       "\n",
       "    found_percentages  \n",
       "156    [51.25, 51.25]  \n",
       "125           [49.96]  "
      ]
     },
     "execution_count": 17,
     "metadata": {},
     "output_type": "execute_result"
    }
   ],
   "source": [
    "def found_percentages(row):\n",
    "    content_text = row['html_content']\n",
    "    found_list: list[str] = re.findall(r'(\\d{2}[,.]\\d{1,2})\\s?%', content_text)\n",
    "    return [float(f.replace(',', '.')) for f in found_list]\n",
    "\n",
    "df['found_percentages'] = df.progress_apply(found_percentages, axis=1)\n",
    "df.sample(2)"
   ]
  },
  {
   "cell_type": "code",
   "execution_count": 45,
   "id": "faacce3e",
   "metadata": {},
   "outputs": [
    {
     "data": {
      "application/vnd.microsoft.datawrangler.viewer.v0+json": {
       "columns": [
        {
         "name": "index",
         "rawType": "int64",
         "type": "integer"
        },
        {
         "name": "URL",
         "rawType": "object",
         "type": "string"
        },
        {
         "name": "html_content",
         "rawType": "object",
         "type": "string"
        },
        {
         "name": "date",
         "rawType": "object",
         "type": "unknown"
        },
        {
         "name": "found_percentages",
         "rawType": "object",
         "type": "unknown"
        }
       ],
       "conversionMethod": "pd.DataFrame",
       "ref": "048a1182-a63a-42d5-9c8d-87a704fd5181",
       "rows": [
        [
         "184",
         "https://bogota.gov.co//mi-ciudad/habitat/racionamiento-de-agua-en-bogota-lunes-16-de-septiembre-datos-consumo",
         " Datos del consumo de agua del lunes 16 de septiembre ¡Detalles aquí! 17·SEP·2024 El nivel de los embalses del Sistema Chingaza, con corte al 16 de septiembre, se encuentra en 45,81 % #CierraLaLlaveYa Imagen: Alcaldía Mayor de Bogotá.  Recuerda mantener los hábitos de ahorro y consumo responsable del agua. Sigue las recomendaciones del Acueducto de Bogotá. Publicado por: Angie Ruíz RojasÚnete a nuestro canal de noticias en WhatsAppSegún datos de la Empresa de Acueducto y Alcantarillado de Bogotá (EAAB), el lunes 16 de septiembre de 2024, día sin racionamiento, se presentó en Bogotá y municipios aledaños, un consumo de agua de 17,31 metros cúbicos por segundo. El nivel de los embalses del Sistema Chingaza, con corte al 16 de septiembre, se encuentra en 45,81 % #CierraLaLlaveYaTe puede interesar: Barrios con cortes de agua en Bogotá 15 al 19 de septiembre de 2024 ¡Agéndate! A continuación te compartimos una imagen de la Alcaldía de Bogotá con más detalles del consumo de agua del lunes 16 de septiembre de 2024: Sigue estas recomendaciones del Acueducto de Bogotá para el ahorro de agua:1. No acumular de agua durante los turnos de racionamiento. Evitar el desperdicio.2. Reutilizar el agua de la lavadora para descargar el sanitario.3. Cerrar la llave de los lavamos cuando nos enjabonamos las manos.4. Lavarnos los dientes con un vaso de agua.No te vayas sin leer: Barrios con racionamiento de agua en Bogotá del 11 al 27 de septiembre 20245. Disminuir al máximo el periodo de riego de jardines.6. No lavar el carro con manguera, usar trapo y balde con agua. Racionamiento de aguaAcueducto BogotáEmpresa de Acueducto y Alcantarillado de Bogotá - ESPAguacortes de aguaembalsesAmbienteCortes de agua en BogotáEmpresa de Acueducto y Alcantarillado de Bogotá ESP COMPARTE:",
         "2024-09-16 00:00:00",
         "[45.81, 45.81]"
        ],
        [
         "317",
         "https://bogota.gov.co//mi-ciudad/habitat/racionamiento-de-agua-en-bogota-consumo-y-nivel-embalse-1-de-diciembre",
         " Consumo de agua y nivel del embalses con corte al primero de diciembre 2024 2·DIC·2024 En ‘Bogotá, mi Ciudad, mi Casa’, seguimos con medidas de ahorro, cuidemos hasta la última gota de agua. Juntos podemos evitar llegar al Día Cero. Imagen: Alcaldía Mayor de Bogotá.  Ahorra agua y adopta un consumo responsable siguiendo las recomendaciones del Acueducto de Bogotá. Publicado por: Angie Ruíz RojasÚnete a nuestro canal de noticias en WhatsAppEl domingo primero de diciembre de 2024, según datos de la Empresa de Acueducto y Alcantarillado de Bogotá (EAAB), se presentó en Bogotá y municipios aledaños un consumo de agua de 15,98 metros cúbicos por segundo. El nivel de los embalses del Sistema Chingaza, con corte al 1 de diciembre, se encuentra en 52,37 %. Te invitamos consultar: No habrá racionamiento de agua en Bogotá el 24 y 31 de diciembreEn ‘Bogotá, mi Ciudad, mi Casa’, seguimos con medidas de ahorro, cuidemos hasta la última gota de agua. Juntos podemos evitar llegar al Día Cero. Conoce en la siguiente imagen de la Alcaldía de Bogotá, más detalles del consumo del agua y niveles del Sistema Chingaza con corte al primero de diciembre 2024: Sigue estas recomendaciones del Acueducto y Alcantarillado de Bogotá para el consumo responsable de agua: 1. No acumular de agua durante los turnos de racionamiento. Evitar el desperdicio.2. Reutilizar el agua de la lavadora para descargar el sanitario.3. Cerrar la llave de los lavamos cuando nos enjabonamos las manos.4. Lavarnos los dientes con un vaso de agua.5. Disminuir al máximo el periodo de riego de jardines.6. No lavar el carro con manguera, usar trapo y balde con agua.Acueducto BogotáAguacortes de aguaRacionamiento de aguaembalsesCortes de agua en BogotáembalseAhorro de aguaEmpresa de Acueducto y Alcantarillado de Bogotá ESP COMPARTE:",
         "2024-12-01 00:00:00",
         "[52.37]"
        ]
       ],
       "shape": {
        "columns": 4,
        "rows": 2
       }
      },
      "text/html": [
       "<div>\n",
       "<style scoped>\n",
       "    .dataframe tbody tr th:only-of-type {\n",
       "        vertical-align: middle;\n",
       "    }\n",
       "\n",
       "    .dataframe tbody tr th {\n",
       "        vertical-align: top;\n",
       "    }\n",
       "\n",
       "    .dataframe thead th {\n",
       "        text-align: right;\n",
       "    }\n",
       "</style>\n",
       "<table border=\"1\" class=\"dataframe\">\n",
       "  <thead>\n",
       "    <tr style=\"text-align: right;\">\n",
       "      <th></th>\n",
       "      <th>URL</th>\n",
       "      <th>html_content</th>\n",
       "      <th>date</th>\n",
       "      <th>found_percentages</th>\n",
       "    </tr>\n",
       "  </thead>\n",
       "  <tbody>\n",
       "    <tr>\n",
       "      <th>184</th>\n",
       "      <td>https://bogota.gov.co//mi-ciudad/habitat/racio...</td>\n",
       "      <td>Datos del consumo de agua del lunes 16 de sep...</td>\n",
       "      <td>2024-09-16 00:00:00</td>\n",
       "      <td>[45.81, 45.81]</td>\n",
       "    </tr>\n",
       "    <tr>\n",
       "      <th>317</th>\n",
       "      <td>https://bogota.gov.co//mi-ciudad/habitat/racio...</td>\n",
       "      <td>Consumo de agua y nivel del embalses con cort...</td>\n",
       "      <td>2024-12-01 00:00:00</td>\n",
       "      <td>[52.37]</td>\n",
       "    </tr>\n",
       "  </tbody>\n",
       "</table>\n",
       "</div>"
      ],
      "text/plain": [
       "                                                   URL  \\\n",
       "184  https://bogota.gov.co//mi-ciudad/habitat/racio...   \n",
       "317  https://bogota.gov.co//mi-ciudad/habitat/racio...   \n",
       "\n",
       "                                          html_content                 date  \\\n",
       "184   Datos del consumo de agua del lunes 16 de sep...  2024-09-16 00:00:00   \n",
       "317   Consumo de agua y nivel del embalses con cort...  2024-12-01 00:00:00   \n",
       "\n",
       "    found_percentages  \n",
       "184    [45.81, 45.81]  \n",
       "317           [52.37]  "
      ]
     },
     "execution_count": 45,
     "metadata": {},
     "output_type": "execute_result"
    }
   ],
   "source": [
    "with_valid_percentages = df['found_percentages'].apply(lambda x: len(x) > 0)\n",
    "with_valid_dates = (~pd.isna(df['date'])) & (df['date'] <= datetime.datetime.now())\n",
    "\n",
    "valid_entries = df[with_valid_percentages & with_valid_dates].drop_duplicates(subset='date')\n",
    "valid_entries.sample(2)"
   ]
  },
  {
   "cell_type": "code",
   "execution_count": 46,
   "id": "b2af15ad",
   "metadata": {},
   "outputs": [
    {
     "name": "stderr",
     "output_type": "stream",
     "text": [
      "100%|██████████| 282/282 [00:00<00:00, 590806.06it/s]\n"
     ]
    },
    {
     "data": {
      "application/vnd.microsoft.datawrangler.viewer.v0+json": {
       "columns": [
        {
         "name": "index",
         "rawType": "int64",
         "type": "integer"
        },
        {
         "name": "URL",
         "rawType": "object",
         "type": "string"
        },
        {
         "name": "html_content",
         "rawType": "object",
         "type": "string"
        },
        {
         "name": "date",
         "rawType": "object",
         "type": "unknown"
        },
        {
         "name": "found_percentages",
         "rawType": "object",
         "type": "unknown"
        },
        {
         "name": "current_percentage",
         "rawType": "float64",
         "type": "float"
        }
       ],
       "conversionMethod": "pd.DataFrame",
       "ref": "20d86e9e-d686-40a1-8ef5-c9b8df3bb3af",
       "rows": [
        [
         "284",
         "https://bogota.gov.co//mi-ciudad/habitat/balance-del-consumo-de-agua-en-bogota-del-28-de-diciembre-de-2024",
         " Aquí el balance del consumo de agua en Bogotá durante el 28 de diciembre 29·DIC·2024 En Bogotá seguimos con medidas de ahorro, cuidemos hasta la última gota de agua. Juntos podemos evitar llegar al Día Cero. Foto: Alcaldía de Bogotá.  El nivel de los embalses del Sistema Chingaza se encuentra en 46,90 % Publicado por: Ginna R. SánchezÚnete a nuestro canal de noticias en WhatsAppSeguimos con medidas de ahorro y cuidado del agua en 'Bogotá, mi Ciudad, mi Casa' . Conoce el balance del consumo de agua en Bogotá y municipios aledaños de este sábado 28 de diciembre de 2024.También te puede interesar: ¿Vas a visitar los senderos de Bogotá? Ten en cuenta estas recomendacionesDatos en consumo de agua del 28 de diciembre El reporte es el siguiente:El consumo de agua en Bogotá durante el 28 de diciembre fue de 17,15 m³/s.El nivel de los embalses del Sistema Chingaza se encuentra en 46,90 %A continuación, un post en la red social X sobre el consumo de agua en Bogotá: 💧El consumo de agua en Bogotá durante el 28 de diciembre fue de 17,15 m³/s. El nivel de los embalses del Sistema Chingaza se encuentra en 46,90 %. #CierraLaLlaveYapic.twitter.com/X35ObTJDQP\n— Alcaldía de Bogotá (@Bogota) December 29, 2024Sigue estas recomendaciones del Acueducto y Alcantarillado de Bogotá para el consumo responsable de agua: No acumular de agua durante los turnos de racionamiento. Evitar el desperdicio.Reutilizar el agua de la lavadora para descargar el sanitario.Cerrar la llave de los lavamos cuando nos enjabonamos las manos.Lavarnos los dientes con un vaso de agua. Disminuir al máximo el periodo de riego de jardines.No lavar el carro con manguera, usar una toalla y balde con agua.No te vayas sin leer:¡Pilas! Del 23 de diciembre al 6 de enero no hay racionamiento de agua Aguadía del aguaCortes de agua en BogotáRacionamiento de aguaahorroAhorro de aguaChingazaembalsesEmpresa de Acueducto y Alcantarillado de Bogotá ESP COMPARTE:",
         "2024-12-28 00:00:00",
         "[46.9, 46.9, 46.9]",
         "46.9"
        ],
        [
         "263",
         "https://bogota.gov.co//mi-ciudad/habitat/racionamiento-de-agua-consumo-del-turno-del-sabado-9-de-noviembre",
         " El nivel del Sistema Chingaza, con corte al 9 de noviembre, se encuentra en 48 % 10·NOV·2024 Llueve en Bogotá, sin embargo, debemos tener un mayor compromiso de ahorro. El consumo de agua en la ciudad durante el 9 de noviembre fue de 16,21 m³/s. Imagen: Alcaldía Mayor de Bogotá Sigue las recomendaciones del Acueducto de Bogotá y adopta un consumo responsable del agua. Publicado por: Cielo FierroÚnete a nuestro canal de noticias en WhatsAppSegún datos de la Empresa de Acueducto y Alcantarillado de Bogotá (EAAB), el sábado 9 de noviembre, se presentó en Bogotá  y municipios aledaños un consumo de agua de 16,21 metros cúbicos por segundo. El nivel de los embalses del Sistema Chingaza, con corte al 9 de noviembre se encuentra en el 48,00 %. Pero no nos podemos relajar. Si te interesa leer: Se mantuvo el consumo del agua durante el racionamiento del 8 de noviembreLlueve en Bogotá, pero no lo suficiente en el Sistema Chingaza, por este motivo, debemos tener un mayor compromiso de ahorro, cuidemos hasta la última gota de agua. Juntos podemos evitar llegar al Día Cero #PorUnConsumoResponsableDelAgua.Sin duda estas lluvias ayudan a alejarnos del 'Día Cero', pero no son suficientes todavía para volver a la normalidad, como lo afirmó el alcalde de Bogotá, Carlos Fernando Galán, en la red social X.La buena noticia con las lluvias es que también han caído en Chingaza.En los últimos 8 días el Sistema Chingaza ha subido 10,21 millones de metros cúbicos. Hoy el sistema está en 48%.Sin embargo, a pesar de las fuertes lluvias registradas en noviembre, Chingaza sigue muy por…\n— Carlos F. Galán (@CarlosFGalan) November 10, 2024Sigue estas recomendaciones del Acueducto y Alcantarillado de Bogotá para el consumo responsable de agua1. No acumular de agua durante los turnos de racionamiento. Evitar el desperdicio.2. Reutilizar el agua de la lavadora para descargar el sanitario.3. Cerrar la llave de los lavamos cuando nos enjabonamos las manos.4. Lavarnos los dientes con un vaso de agua.5. Disminuir al máximo el periodo de riego de jardines.6. No lavar el carro con manguera, usar trapo y balde con agua.A continuación, te compartimos un post de la Alcaldía Mayor de Bogotá en la red social X con datos del consumo del agua: 💧El consumo de agua en Bogotá durante el 9 de noviembre fue de 16,21 m³/s. El nivel de los embalses del Sistema Chingaza se encuentra en 48,00 %. #CierraLaLlaveYapic.twitter.com/gGDPYG4L1a\n— Alcaldía de Bogotá (@Bogota) November 10, 2024  Acueducto BogotáAguaRacionamiento de aguaembalsescortes de aguaCortes de agua en BogotáEmpresa de Acueducto y Alcantarillado de Bogotá ESP COMPARTE:",
         "2024-11-09 00:00:00",
         "[48.0, 48.0]",
         "48.0"
        ]
       ],
       "shape": {
        "columns": 5,
        "rows": 2
       }
      },
      "text/html": [
       "<div>\n",
       "<style scoped>\n",
       "    .dataframe tbody tr th:only-of-type {\n",
       "        vertical-align: middle;\n",
       "    }\n",
       "\n",
       "    .dataframe tbody tr th {\n",
       "        vertical-align: top;\n",
       "    }\n",
       "\n",
       "    .dataframe thead th {\n",
       "        text-align: right;\n",
       "    }\n",
       "</style>\n",
       "<table border=\"1\" class=\"dataframe\">\n",
       "  <thead>\n",
       "    <tr style=\"text-align: right;\">\n",
       "      <th></th>\n",
       "      <th>URL</th>\n",
       "      <th>html_content</th>\n",
       "      <th>date</th>\n",
       "      <th>found_percentages</th>\n",
       "      <th>current_percentage</th>\n",
       "    </tr>\n",
       "  </thead>\n",
       "  <tbody>\n",
       "    <tr>\n",
       "      <th>284</th>\n",
       "      <td>https://bogota.gov.co//mi-ciudad/habitat/balan...</td>\n",
       "      <td>Aquí el balance del consumo de agua en Bogotá...</td>\n",
       "      <td>2024-12-28 00:00:00</td>\n",
       "      <td>[46.9, 46.9, 46.9]</td>\n",
       "      <td>46.9</td>\n",
       "    </tr>\n",
       "    <tr>\n",
       "      <th>263</th>\n",
       "      <td>https://bogota.gov.co//mi-ciudad/habitat/racio...</td>\n",
       "      <td>El nivel del Sistema Chingaza, con corte al 9...</td>\n",
       "      <td>2024-11-09 00:00:00</td>\n",
       "      <td>[48.0, 48.0]</td>\n",
       "      <td>48.0</td>\n",
       "    </tr>\n",
       "  </tbody>\n",
       "</table>\n",
       "</div>"
      ],
      "text/plain": [
       "                                                   URL  \\\n",
       "284  https://bogota.gov.co//mi-ciudad/habitat/balan...   \n",
       "263  https://bogota.gov.co//mi-ciudad/habitat/racio...   \n",
       "\n",
       "                                          html_content                 date  \\\n",
       "284   Aquí el balance del consumo de agua en Bogotá...  2024-12-28 00:00:00   \n",
       "263   El nivel del Sistema Chingaza, con corte al 9...  2024-11-09 00:00:00   \n",
       "\n",
       "      found_percentages  current_percentage  \n",
       "284  [46.9, 46.9, 46.9]                46.9  \n",
       "263        [48.0, 48.0]                48.0  "
      ]
     },
     "execution_count": 46,
     "metadata": {},
     "output_type": "execute_result"
    }
   ],
   "source": [
    "valid_entries['current_percentage'] = valid_entries['found_percentages'].progress_apply(lambda x: max(set(x), key=x.count))\n",
    "valid_entries.sample(2)"
   ]
  },
  {
   "cell_type": "code",
   "execution_count": null,
   "id": "01267916",
   "metadata": {},
   "outputs": [
    {
     "data": {
      "image/png": "[encoded data removed]",
      "text/plain": [
       "<Figure size 1200x600 with 1 Axes>"
      ]
     },
     "metadata": {},
     "output_type": "display_data"
    }
   ],
   "source": [
    "# Ensure 'date' column is in datetime format\n",
    "valid_entries['date'] = pd.to_datetime(valid_entries['date'])\n",
    "\n",
    "# Plotting\n",
    "plt.figure(figsize=(12, 6))\n",
    "plt.bar(valid_entries['date'], valid_entries['current_percentage'])\n",
    "plt.xlabel('Date')\n",
    "plt.ylabel('Current Percentage')\n",
    "plt.title('Nivel embalses Bogota')\n",
    "plt.xticks(rotation=45)\n",
    "plt.show()"
   ]
  }
 ],
 "metadata": {
  "kernelspec": {
   "display_name": ".venv",
   "language": "python",
   "name": "python3"
  },
  "language_info": {
   "codemirror_mode": {
    "name": "ipython",
    "version": 3
   },
   "file_extension": ".py",
   "mimetype": "text/x-python",
   "name": "python",
   "nbconvert_exporter": "python",
   "pygments_lexer": "ipython3",
   "version": "3.12.4"
  }
 },
 "nbformat": 4,
 "nbformat_minor": 5
}
