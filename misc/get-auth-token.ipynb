{
 "cells": [
  {
   "cell_type": "code",
   "execution_count": 1,
   "metadata": {},
   "outputs": [],
   "source": [
    "import os\n",
    "from google.auth.transport.requests import Request\n",
    "from google.oauth2.credentials import Credentials\n",
    "from google_auth_oauthlib.flow import InstalledAppFlow"
   ]
  },
  {
   "cell_type": "code",
   "execution_count": 2,
   "metadata": {},
   "outputs": [
    {
     "name": "stdout",
     "output_type": "stream",
     "text": [
      "Please visit this URL to authorize this application: https://accounts.google.com/o/oauth2/auth?response_type=code&client_id=313892779657-02gs93mmee20h8v0nl191cgihf11cfhr.apps.googleusercontent.com&redirect_uri=http%3A%2F%2Flocalhost%3A3001%2F&scope=https%3A%2F%2Fwww.googleapis.com%2Fauth%2Fgmail.readonly&state=TqcePms4N3SdQrx7kJj2aEQyLUwr8X&access_type=offline\n"
     ]
    }
   ],
   "source": [
    "creds = None\n",
    "oAuthFilePath = \"/Users/juangama/Downloads/client_secret_313892779657-02gs93mmee20h8v0nl191cgihf11cfhr.apps.googleusercontent.com.json\"\n",
    "SCOPES = [\"https://www.googleapis.com/auth/gmail.readonly\"]\n",
    "\n",
    "if os.path.exists(\"oauth-juan-token.json\"):\n",
    "  creds = Credentials.from_authorized_user_file(\"oauth-juan-token.json\", SCOPES)\n",
    "\n",
    "# If there are no (valid) credentials available, let the user log in.\n",
    "if not creds or not creds.valid:\n",
    "  if creds and creds.expired and creds.refresh_token:\n",
    "    creds.refresh(Request())\n",
    "  else:\n",
    "    flow = InstalledAppFlow.from_client_secrets_file(oAuthFilePath, SCOPES)\n",
    "    creds = flow.run_local_server(port=3001)\n",
    "\n",
    "  # Save the credentials for the next run\n",
    "  with open(\"oauth-juan-token.json\", \"w\") as token:\n",
    "    token.write(creds.to_json())"
   ]
  }
 ],
 "metadata": {
  "kernelspec": {
   "display_name": ".venv",
   "language": "python",
   "name": "python3"
  },
  "language_info": {
   "codemirror_mode": {
    "name": "ipython",
    "version": 3
   },
   "file_extension": ".py",
   "mimetype": "text/x-python",
   "name": "python",
   "nbconvert_exporter": "python",
   "pygments_lexer": "ipython3",
   "version": "3.12.4"
  }
 },
 "nbformat": 4,
 "nbformat_minor": 2
}
